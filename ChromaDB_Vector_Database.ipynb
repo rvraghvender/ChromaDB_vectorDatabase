{
  "nbformat": 4,
  "nbformat_minor": 0,
  "metadata": {
    "colab": {
      "provenance": [],
      "authorship_tag": "ABX9TyNI8zc2RR6QVK507C8lOvNa",
      "include_colab_link": true
    },
    "kernelspec": {
      "name": "python3",
      "display_name": "Python 3"
    },
    "language_info": {
      "name": "python"
    }
  },
  "cells": [
    {
      "cell_type": "markdown",
      "metadata": {
        "id": "view-in-github",
        "colab_type": "text"
      },
      "source": [
        "<a href=\"https://colab.research.google.com/github/rvraghvender/ChromaDB_vectorDatabase/blob/main/ChromaDB_Vector_Database.ipynb\" target=\"_parent\"><img src=\"https://colab.research.google.com/assets/colab-badge.svg\" alt=\"Open In Colab\"/></a>"
      ]
    },
    {
      "cell_type": "code",
      "execution_count": 40,
      "metadata": {
        "id": "tzwQuN2ZOnN1"
      },
      "outputs": [],
      "source": [
        "# !pip -q install chromadb openai langchain tiktoken pypdf"
      ]
    },
    {
      "cell_type": "code",
      "source": [
        "from langchain.document_loaders import PyPDFLoader\n",
        "from langchain.text_splitter import RecursiveCharacterTextSplitter\n",
        "from langchain.vectorstores import Chroma\n",
        "from langchain.embeddings import OpenAIEmbeddings\n",
        "from langchain.llms import OpenAI\n",
        "from langchain.chains import RetrievalQA\n",
        "from langchain.prompts import PromptTemplate\n",
        "import os"
      ],
      "metadata": {
        "id": "4VMBkbSNRk8l"
      },
      "execution_count": 43,
      "outputs": []
    },
    {
      "cell_type": "code",
      "source": [
        "from google.colab import userdata"
      ],
      "metadata": {
        "id": "Gz-O5iCmRW_V"
      },
      "execution_count": null,
      "outputs": []
    },
    {
      "cell_type": "code",
      "source": [
        "# !wget -q https://www.dropbox.com/s/vs6ocyvpzzncvwh/new_articles.zip"
      ],
      "metadata": {
        "id": "Vwl-pjF1SLPS"
      },
      "execution_count": null,
      "outputs": []
    },
    {
      "cell_type": "code",
      "source": [
        "!mkdir Thesis"
      ],
      "metadata": {
        "id": "FzMfWJVvQIMa"
      },
      "execution_count": 41,
      "outputs": []
    },
    {
      "cell_type": "code",
      "source": [
        "!wget -q https://www.theses.fr/2023LIMO0010/document -O Thesis/thesis.pdf"
      ],
      "metadata": {
        "id": "4F8GBIQMSjnT"
      },
      "execution_count": 42,
      "outputs": []
    },
    {
      "cell_type": "markdown",
      "source": [
        "## Extract the text from PDF"
      ],
      "metadata": {
        "id": "y0BS5E4oRcrd"
      }
    },
    {
      "cell_type": "code",
      "source": [
        "loader = PyPDFLoader('Thesis/thesis.pdf')"
      ],
      "metadata": {
        "id": "H1C2ZuyaSxHi"
      },
      "execution_count": 44,
      "outputs": []
    },
    {
      "cell_type": "code",
      "source": [
        "data = loader.load()"
      ],
      "metadata": {
        "id": "A1Xc_Gj7Thpx"
      },
      "execution_count": 45,
      "outputs": []
    },
    {
      "cell_type": "markdown",
      "source": [
        "## Loading data"
      ],
      "metadata": {
        "id": "OLtW5L2tUw-a"
      }
    },
    {
      "cell_type": "code",
      "source": [
        "data[0]"
      ],
      "metadata": {
        "id": "PEdpj1DGUFtB",
        "colab": {
          "base_uri": "https://localhost:8080/"
        },
        "outputId": "77120874-e82c-468e-b54f-01e0cb11610c"
      },
      "execution_count": 47,
      "outputs": [
        {
          "output_type": "execute_result",
          "data": {
            "text/plain": [
              "Document(page_content='Doctoral Thesis\\nUniversité de Limoges\\nEcole Doctorale Sciences et Ingénierie (SI) ED 653\\nIRCER - Institute of research for ceramics UMR CNRS 7315\\nThesis to obtain the degree of\\nDocteur de l’Université de Limoges\\nIRCER, Axe 3 - organisation structurale multiéchelle des matériaux\\nPresented and supported by\\nRaghvender\\nLe 22 February 2023\\nAB-INITIO STUDY OF THE STRUCTURE OF TELLURIUM-OXIDE BASED GLASSES:\\nA STEP FORWARD IN ESTABLISHING THE STRUCTURE -PROPERTIES RELATIONSHIPS\\nThesis supervised by Assil BOUZID and Olivier MASSON\\nJury :\\nPrésident de Jury :\\nDr. Philippe THOMAS\\nDirecteur de Recherche CNRS – IRCER, Université de Limoges, Limoges (France)\\nRapporteurs :\\nDr. Guillaume FERLAT\\nMaître de conférences (HDR) – Sorbonne Université (France)\\nDr. Pierre BORDET\\nDirecteur de Recherche CNRS – Université Grenoble Alpes (France)\\nExaminateurs :\\nDr. Oliver ALDERMAN\\nISIS Neutron and Muon Source – Rutherford Appleton Laboratory (England)\\nDr. Assil BOUZID\\nChargé de recherche CNRS – IRCER, Université de Limoges, Limoges (France)\\nProf. Olivier MASSON\\nProfesseur – Université de Limoges, Limoges (France)\\nInvités :\\nDr. Evgenii M. ROGINSKII\\nAssociate Professeur – Ioffe Institute, St. Petersburg (Russia)\\n', metadata={'source': 'Thesis/thesis.pdf', 'page': 0})"
            ]
          },
          "metadata": {},
          "execution_count": 47
        }
      ]
    },
    {
      "cell_type": "code",
      "source": [
        "len(data)"
      ],
      "metadata": {
        "id": "Qo9aL44DVDqZ",
        "colab": {
          "base_uri": "https://localhost:8080/"
        },
        "outputId": "8823a7b0-6df9-431a-cc27-c763b2d3fe65"
      },
      "execution_count": 48,
      "outputs": [
        {
          "output_type": "execute_result",
          "data": {
            "text/plain": [
              "262"
            ]
          },
          "metadata": {},
          "execution_count": 48
        }
      ]
    },
    {
      "cell_type": "markdown",
      "source": [
        "## Splitting the extracted data into text chunks"
      ],
      "metadata": {
        "id": "UpiPiK6GSFAc"
      }
    },
    {
      "cell_type": "code",
      "source": [
        "text_splitter = RecursiveCharacterTextSplitter(chunk_size=1000, chunk_overlap=200)\n",
        "text = text_splitter.split_documents(data)"
      ],
      "metadata": {
        "id": "xsYu-ONdWIHQ"
      },
      "execution_count": 49,
      "outputs": []
    },
    {
      "cell_type": "code",
      "source": [
        "text[0]"
      ],
      "metadata": {
        "colab": {
          "base_uri": "https://localhost:8080/"
        },
        "id": "fs7Eo2NjWU8g",
        "outputId": "ce8689ad-0ca4-4a66-d1d1-cf058cfd16d8"
      },
      "execution_count": 51,
      "outputs": [
        {
          "output_type": "execute_result",
          "data": {
            "text/plain": [
              "Document(page_content='Doctoral Thesis\\nUniversité de Limoges\\nEcole Doctorale Sciences et Ingénierie (SI) ED 653\\nIRCER - Institute of research for ceramics UMR CNRS 7315\\nThesis to obtain the degree of\\nDocteur de l’Université de Limoges\\nIRCER, Axe 3 - organisation structurale multiéchelle des matériaux\\nPresented and supported by\\nRaghvender\\nLe 22 February 2023\\nAB-INITIO STUDY OF THE STRUCTURE OF TELLURIUM-OXIDE BASED GLASSES:\\nA STEP FORWARD IN ESTABLISHING THE STRUCTURE -PROPERTIES RELATIONSHIPS\\nThesis supervised by Assil BOUZID and Olivier MASSON\\nJury :\\nPrésident de Jury :\\nDr. Philippe THOMAS\\nDirecteur de Recherche CNRS – IRCER, Université de Limoges, Limoges (France)\\nRapporteurs :\\nDr. Guillaume FERLAT\\nMaître de conférences (HDR) – Sorbonne Université (France)\\nDr. Pierre BORDET\\nDirecteur de Recherche CNRS – Université Grenoble Alpes (France)\\nExaminateurs :\\nDr. Oliver ALDERMAN\\nISIS Neutron and Muon Source – Rutherford Appleton Laboratory (England)\\nDr. Assil BOUZID', metadata={'source': 'Thesis/thesis.pdf', 'page': 0})"
            ]
          },
          "metadata": {},
          "execution_count": 51
        }
      ]
    },
    {
      "cell_type": "code",
      "source": [
        "text[1]"
      ],
      "metadata": {
        "colab": {
          "base_uri": "https://localhost:8080/"
        },
        "id": "or2VLT6dWaB_",
        "outputId": "c0de3614-1ad6-4320-bbeb-da9842479005"
      },
      "execution_count": 52,
      "outputs": [
        {
          "output_type": "execute_result",
          "data": {
            "text/plain": [
              "Document(page_content='Directeur de Recherche CNRS – Université Grenoble Alpes (France)\\nExaminateurs :\\nDr. Oliver ALDERMAN\\nISIS Neutron and Muon Source – Rutherford Appleton Laboratory (England)\\nDr. Assil BOUZID\\nChargé de recherche CNRS – IRCER, Université de Limoges, Limoges (France)\\nProf. Olivier MASSON\\nProfesseur – Université de Limoges, Limoges (France)\\nInvités :\\nDr. Evgenii M. ROGINSKII\\nAssociate Professeur – Ioffe Institute, St. Petersburg (Russia)', metadata={'source': 'Thesis/thesis.pdf', 'page': 0})"
            ]
          },
          "metadata": {},
          "execution_count": 52
        }
      ]
    },
    {
      "cell_type": "code",
      "source": [
        "text[2]"
      ],
      "metadata": {
        "colab": {
          "base_uri": "https://localhost:8080/"
        },
        "id": "fXalyFLdWbSQ",
        "outputId": "776b4af6-0b81-4e76-a8a2-9e67607c38ad"
      },
      "execution_count": 53,
      "outputs": [
        {
          "output_type": "execute_result",
          "data": {
            "text/plain": [
              "Document(page_content='To my parents and grandparents,\\nYour unwavering love and support have propelled me towards this significant milestone.\\nWith profound gratitude and love, I dedicate this thesis to all of you.\\nRaghvender | Doctoral thesis | IRCER\\nUniversité de Limoges2', metadata={'source': 'Thesis/thesis.pdf', 'page': 1})"
            ]
          },
          "metadata": {},
          "execution_count": 53
        }
      ]
    },
    {
      "cell_type": "code",
      "source": [
        "text[3]"
      ],
      "metadata": {
        "colab": {
          "base_uri": "https://localhost:8080/"
        },
        "id": "lUkRpbIGWi-g",
        "outputId": "c165ae9a-26e0-43ca-db36-a43e334789b6"
      },
      "execution_count": 54,
      "outputs": [
        {
          "output_type": "execute_result",
          "data": {
            "text/plain": [
              "Document(page_content='Remember to look up at the stars and not down at your feet. Try to make sense of what you see\\nand wonder about what makes the universe exist. Be curious. And however difficult life may\\nseem, there is always something you can do and succeed at. It matters that you don’t just give up.\\nStephen Hawking\\nRaghvender | Doctoral thesis | IRCER\\nUniversité de Limoges3', metadata={'source': 'Thesis/thesis.pdf', 'page': 2})"
            ]
          },
          "metadata": {},
          "execution_count": 54
        }
      ]
    },
    {
      "cell_type": "code",
      "source": [
        "len(text)"
      ],
      "metadata": {
        "colab": {
          "base_uri": "https://localhost:8080/"
        },
        "id": "eWv_wzUcWy-Q",
        "outputId": "c94c2d2e-76a8-4ab9-dda6-0023c203fa64"
      },
      "execution_count": 55,
      "outputs": [
        {
          "output_type": "execute_result",
          "data": {
            "text/plain": [
              "711"
            ]
          },
          "metadata": {},
          "execution_count": 55
        }
      ]
    },
    {
      "cell_type": "markdown",
      "source": [
        "## Creating db object"
      ],
      "metadata": {
        "id": "6p9bSkWgXJzb"
      }
    },
    {
      "cell_type": "code",
      "source": [
        "from langchain import embeddings\n",
        "persist_directory = 'thesis_db'\n",
        "\n",
        "embeddings = OpenAIEmbeddings(openai_api_key=userdata.get('OPENAI_API_KEY'))"
      ],
      "metadata": {
        "id": "lbGh1S8AXI3X"
      },
      "execution_count": 59,
      "outputs": []
    },
    {
      "cell_type": "code",
      "source": [
        "vectordb = Chroma.from_documents(documents=text,\n",
        "                               embedding=embeddings,\n",
        "                               persist_directory=persist_directory)"
      ],
      "metadata": {
        "id": "zqvA91pZXBEP"
      },
      "execution_count": 60,
      "outputs": []
    },
    {
      "cell_type": "code",
      "source": [
        "# persist the db to disk\n",
        "vectordb.persist()\n",
        "vectordb = None"
      ],
      "metadata": {
        "id": "WKXOy8BLXy-X"
      },
      "execution_count": 61,
      "outputs": []
    },
    {
      "cell_type": "code",
      "source": [
        "# Load the persisted database from disk, and use it as noraml database\n",
        "vectordb = Chroma(persist_directory=persist_directory,\n",
        "                  embedding_function=embeddings\n",
        "                  )"
      ],
      "metadata": {
        "id": "_3Xf5etRY2Yk"
      },
      "execution_count": 62,
      "outputs": []
    },
    {
      "cell_type": "markdown",
      "source": [
        "## Make a retriever"
      ],
      "metadata": {
        "id": "N-oG_mVHZE80"
      }
    },
    {
      "cell_type": "code",
      "source": [
        "retriever = vectordb.as_retriever()"
      ],
      "metadata": {
        "id": "n4bKm65DZENM"
      },
      "execution_count": 63,
      "outputs": []
    },
    {
      "cell_type": "code",
      "source": [
        "docs = retriever.get_relevant_documents('What adding Thallim in TeO2 glass causes?')"
      ],
      "metadata": {
        "id": "BEmueo_9ZONJ"
      },
      "execution_count": 64,
      "outputs": []
    },
    {
      "cell_type": "code",
      "source": [
        "docs"
      ],
      "metadata": {
        "id": "bSdlV4-cZWDG",
        "colab": {
          "base_uri": "https://localhost:8080/"
        },
        "outputId": "4519ea35-bfe6-41bd-a697-14cefcfb1620"
      },
      "execution_count": 65,
      "outputs": [
        {
          "output_type": "execute_result",
          "data": {
            "text/plain": [
              "[Document(page_content='Chapter 5 – Structure of TiO 2-Tl2O-TeO 2ternary glasses\\nPreliminary studies have shown that the addition of thallium oxide preserves the amplitude of\\nthe non-linear index, however we have seen that TlO 0.5modifier oxide has no positive effect on\\nimproving the mechanical properties (see chapter [4]) and the thermal stability of the glass [9]. A\\nseparate study also showed that adding TiO 2to TeO 2increases the material’s tolerance to heating\\nand significantly increases its mechanical resistance [113], [127]–[129]. It was determined in\\npractice that the O local environment around Ti and Te are comparable, and neither species can\\nbe viewed as a modifier with respect to the others. Dietzel’s field strength criteria, which show\\nthat Ti belongs to the group of intermediate and has a field strength that is quite similar to Te (see\\ntable [1.2] in chapter [1]), might be used as further evidence to support this claim. Authors further', metadata={'page': 155, 'source': 'Thesis/thesis.pdf'}),\n",
              " Document(page_content='We understand that the origin of high NLO properties in pure TeO 2glass is due to 5s2electronic\\nlone pair of Te and Te-O-Te linkages. Further, adding modifier oxide in TeO 2glass leads to\\ndecline in the NLO properties. However, incorporation of polarizable ion Tl+(specifically,\\nthallium-oxide) into TeO 2glass has shown the NLO properties of TeO 2glasses to be maintained.\\nThis comes from the fact that Tl+cation has more diffused electronic lone pair localization than\\nTe4+cation thus, it easily orients and contributes to promote the overall hyperpolarizability of\\nthe material under external field. Moreover, it was found that adding thallium-oxide reduces\\nthe mechanical strength of the TeO 2glass. Therefore, it is necessary to add another ion Ti4+\\n(specifically, titanium-oxide) into binary (TlO 0.5)x−(TeO 2)1−xglass which promotes the\\nmechanical strength while still maintaining the NLO properties of TeO 2glasses. Therefore,\\nRaghvender | Doctoral thesis | IRCER\\nUniversité de Limoges206', metadata={'page': 205, 'source': 'Thesis/thesis.pdf'}),\n",
              " Document(page_content='mechanical and thermal properties of binary glass are even inferior to those of pure TeO 2glass\\ndue to the presence of long Tl-O bonds [9]. Therefore, introducing TlO 0.5modifier serves no\\npurpose in our prerequisite of improving the stability of TeO 2glass. To resolve this issue, the\\nauthors of Ref. [9] added titanium oxide (TiO 2) in addition to thallium oxide (Tl 2O) to increase\\nthe thermal stability while maintaining high non-linear optical properties. The former improves\\nthe mechanical and thermal stability while the latter retains the high non-linear optical properties,\\nsee table [1.12]. Furthermore, adding just TiO 2to the glassy TeO 2results in good stability but\\npoor optical characteristics since no solitary TeO 3ions are produced and the glassy structure stays\\nfully polymerized. This observation appears to be in contrast with the previous work by Noguera\\nRaghvender | Doctoral thesis | IRCER\\nUniversité de Limoges54', metadata={'page': 53, 'source': 'Thesis/thesis.pdf'}),\n",
              " Document(page_content='Chapter 1 – Bibliographical review of TeO 2-based glasses\\nIn conclusion of this chapter, it is clear that adding a modifier is necessary for the stability of\\nTeO 2glasses. Although, Tl maintains the non-linear optical properties, its addition does not\\nresult in an improvement in the TeO 2glass mechanical or thermal properties. Furthermore, no\\nresearch has been conducted regarding how the mechanical strength of TeO 2glasses changes as a\\nresult of the addition of the Tl 2O modifier. Additionally, we observe that the literature-available\\nstudies do not provide a clear consensus on the existence of terminal oxygen and an unambiguous\\nvalue for the Te coordination number in pure TeO 2glass. We have also noted that past research\\ndid not provide a comprehensive analysis of the evolution of the structural and optical properties\\nof TeO 2-based glasses as a function of modifier content. In particular, previous studies lacks to', metadata={'page': 59, 'source': 'Thesis/thesis.pdf'})]"
            ]
          },
          "metadata": {},
          "execution_count": 65
        }
      ]
    },
    {
      "cell_type": "code",
      "source": [
        "retriever = vectordb.as_retriever(search_kwargs={'k':2})"
      ],
      "metadata": {
        "id": "O0UQUUPNZkgE"
      },
      "execution_count": 66,
      "outputs": []
    },
    {
      "cell_type": "code",
      "source": [
        "retriever.search_type"
      ],
      "metadata": {
        "id": "bJxFepC3Zrnh",
        "colab": {
          "base_uri": "https://localhost:8080/",
          "height": 36
        },
        "outputId": "ae75f6be-e20c-4f50-ca1e-72d3e46ac8d8"
      },
      "execution_count": 67,
      "outputs": [
        {
          "output_type": "execute_result",
          "data": {
            "text/plain": [
              "'similarity'"
            ],
            "application/vnd.google.colaboratory.intrinsic+json": {
              "type": "string"
            }
          },
          "metadata": {},
          "execution_count": 67
        }
      ]
    },
    {
      "cell_type": "markdown",
      "source": [
        "**Till now we have just got relevant context from the databse but have to received a smart answer.**"
      ],
      "metadata": {
        "id": "iZsi8Q1TaQ9D"
      }
    },
    {
      "cell_type": "markdown",
      "source": [
        "# So use LLM to get smart answer"
      ],
      "metadata": {
        "id": "HNYKHbr6aZBD"
      }
    },
    {
      "cell_type": "markdown",
      "source": [
        "## Make a chain"
      ],
      "metadata": {
        "id": "7wJkmRjQa2hs"
      }
    },
    {
      "cell_type": "code",
      "source": [
        "# Create the chain to answer question\n",
        "\n",
        "qa_chain = RetrievalQA.from_chain_type(llm=OpenAI(api_key=userdata.get('OPENAI_API_KEY')),\n",
        "                                       chain_type='stuff',\n",
        "                                       retriever=retriever,\n",
        "                                       return_source_documents=True)"
      ],
      "metadata": {
        "id": "pQFZpB0ubAFY"
      },
      "execution_count": 68,
      "outputs": []
    },
    {
      "cell_type": "code",
      "source": [
        "query = 'What adding Thallim in TeO2 glass causes?'\n",
        "llm_response = qa_chain(query)\n",
        "llm_response"
      ],
      "metadata": {
        "id": "CLUDB-FvbVXP",
        "colab": {
          "base_uri": "https://localhost:8080/"
        },
        "outputId": "90f164bc-1e27-4094-caff-40f47731cd6d"
      },
      "execution_count": 69,
      "outputs": [
        {
          "output_type": "execute_result",
          "data": {
            "text/plain": [
              "{'query': 'What adding Thallim in TeO2 glass causes?',\n",
              " 'result': ' The addition of Thallium in TeO2 glass helps to maintain the non-linear optical properties while also potentially reducing the mechanical strength of the glass.',\n",
              " 'source_documents': [Document(page_content='Chapter 5 – Structure of TiO 2-Tl2O-TeO 2ternary glasses\\nPreliminary studies have shown that the addition of thallium oxide preserves the amplitude of\\nthe non-linear index, however we have seen that TlO 0.5modifier oxide has no positive effect on\\nimproving the mechanical properties (see chapter [4]) and the thermal stability of the glass [9]. A\\nseparate study also showed that adding TiO 2to TeO 2increases the material’s tolerance to heating\\nand significantly increases its mechanical resistance [113], [127]–[129]. It was determined in\\npractice that the O local environment around Ti and Te are comparable, and neither species can\\nbe viewed as a modifier with respect to the others. Dietzel’s field strength criteria, which show\\nthat Ti belongs to the group of intermediate and has a field strength that is quite similar to Te (see\\ntable [1.2] in chapter [1]), might be used as further evidence to support this claim. Authors further', metadata={'page': 155, 'source': 'Thesis/thesis.pdf'}),\n",
              "  Document(page_content='We understand that the origin of high NLO properties in pure TeO 2glass is due to 5s2electronic\\nlone pair of Te and Te-O-Te linkages. Further, adding modifier oxide in TeO 2glass leads to\\ndecline in the NLO properties. However, incorporation of polarizable ion Tl+(specifically,\\nthallium-oxide) into TeO 2glass has shown the NLO properties of TeO 2glasses to be maintained.\\nThis comes from the fact that Tl+cation has more diffused electronic lone pair localization than\\nTe4+cation thus, it easily orients and contributes to promote the overall hyperpolarizability of\\nthe material under external field. Moreover, it was found that adding thallium-oxide reduces\\nthe mechanical strength of the TeO 2glass. Therefore, it is necessary to add another ion Ti4+\\n(specifically, titanium-oxide) into binary (TlO 0.5)x−(TeO 2)1−xglass which promotes the\\nmechanical strength while still maintaining the NLO properties of TeO 2glasses. Therefore,\\nRaghvender | Doctoral thesis | IRCER\\nUniversité de Limoges206', metadata={'page': 205, 'source': 'Thesis/thesis.pdf'})]}"
            ]
          },
          "metadata": {},
          "execution_count": 69
        }
      ]
    },
    {
      "cell_type": "code",
      "source": [
        "def process_llm_response(llm_response):\n",
        "    print(llm_response['result'])\n",
        "    print('\\n\\nSources: ')\n",
        "    for source in llm_response['source_documents']:\n",
        "        print(source.metadata['source'])"
      ],
      "metadata": {
        "id": "cOg5iw-ybeoD"
      },
      "execution_count": 70,
      "outputs": []
    },
    {
      "cell_type": "code",
      "source": [
        "process_llm_response(llm_response)"
      ],
      "metadata": {
        "id": "OsQBXJwRbxNg",
        "colab": {
          "base_uri": "https://localhost:8080/"
        },
        "outputId": "ed842e90-4ea8-49e5-f971-ddb460f85ea8"
      },
      "execution_count": 71,
      "outputs": [
        {
          "output_type": "stream",
          "name": "stdout",
          "text": [
            " The addition of Thallium in TeO2 glass helps to maintain the non-linear optical properties while also potentially reducing the mechanical strength of the glass.\n",
            "\n",
            "\n",
            "Sources: \n",
            "Thesis/thesis.pdf\n",
            "Thesis/thesis.pdf\n"
          ]
        }
      ]
    },
    {
      "cell_type": "markdown",
      "source": [
        "## Deleting the database"
      ],
      "metadata": {
        "id": "uL_kgPhpcKlr"
      }
    },
    {
      "cell_type": "code",
      "source": [
        "!zip -r thesis_db.zip ./thesis_db"
      ],
      "metadata": {
        "id": "RDRtvJO1cKCS",
        "colab": {
          "base_uri": "https://localhost:8080/"
        },
        "outputId": "3794cd12-fae3-4883-9c24-6bbaaf2384f1"
      },
      "execution_count": 72,
      "outputs": [
        {
          "output_type": "stream",
          "name": "stdout",
          "text": [
            "  adding: thesis_db/ (stored 0%)\n",
            "  adding: thesis_db/03031d20-abf0-420e-9ac1-fe8e63989f3c/ (stored 0%)\n",
            "  adding: thesis_db/03031d20-abf0-420e-9ac1-fe8e63989f3c/data_level0.bin (deflated 100%)\n",
            "  adding: thesis_db/03031d20-abf0-420e-9ac1-fe8e63989f3c/link_lists.bin (stored 0%)\n",
            "  adding: thesis_db/03031d20-abf0-420e-9ac1-fe8e63989f3c/length.bin (deflated 14%)\n",
            "  adding: thesis_db/03031d20-abf0-420e-9ac1-fe8e63989f3c/header.bin (deflated 61%)\n",
            "  adding: thesis_db/chroma.sqlite3 (deflated 40%)\n"
          ]
        }
      ]
    },
    {
      "cell_type": "code",
      "source": [
        "# to cleanup , the database\n",
        "\n",
        "vectordb.delete_collection()\n",
        "vectordb.persist()\n",
        "\n",
        "!rm -rf db"
      ],
      "metadata": {
        "id": "WYO1NWNJcS4H"
      },
      "execution_count": 73,
      "outputs": []
    },
    {
      "cell_type": "code",
      "source": [
        "!unzip thesis_db.zip"
      ],
      "metadata": {
        "id": "0-G4bf2OJpwr"
      },
      "execution_count": null,
      "outputs": []
    }
  ]
}